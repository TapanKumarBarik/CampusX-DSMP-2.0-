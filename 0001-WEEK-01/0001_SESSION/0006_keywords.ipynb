{
 "cells": [
  {
   "cell_type": "markdown",
   "metadata": {},
   "source": [
    "Keywords in Python are reserved words that have special meanings and cannot be used as identifiers (variable names, function names, etc.). Python's keywords are case-sensitive and must be used exactly as they are defined. Here is a list of Python keywords:"
   ]
  },
  {
   "cell_type": "markdown",
   "metadata": {},
   "source": [
    "- False: Boolean value representing false.\n",
    "- True: Boolean value representing true.\n",
    "- None: Represents the absence of a value.\n",
    "- and: Logical AND operator.\n",
    "- as: Used to create an alias.\n",
    "- assert: Used for debugging purposes.\n",
    "- async: Used to declare asynchronous functions.\n",
    "- await: Used to wait for an async function result.\n",
    "- break: Exits a loop.\n",
    "- class: Defines a class.\n",
    "- continue: Skips the rest of the code inside a loop for the current iteration.\n",
    "- def: Defines a function.\n",
    "- del: Deletes objects.\n",
    "- elif: Conditional statement.\n",
    "- else: Conditional statement.\n",
    "- except: Used with exceptions, what to do when an exception occurs.\n",
    "- finally: Used with exceptions, a block of code that will be executed no matter if there is an exception or not.\n",
    "- for: Used for looping.\n",
    "- from: Used to import specific parts of a module.\n",
    "- global: Declares a global variable.\n",
    "- if: Conditional statement.\n",
    "- import: Imports a module.\n",
    "- in: Checks if a value is present in a sequence (list, range, string, etc.).\n",
    "- is: Tests for object identity.\n",
    "- lambda: Creates an anonymous function.\n",
    "- nonlocal: Declares a non-local variable.\n",
    "- not: Logical NOT operator.\n",
    "- or: Logical OR operator.\n",
    "- pass: Null statement, a statement that will do nothing.\n",
    "- raise: Raises an exception.\n",
    "- return: Exits a function and returns a value.\n",
    "- try: Used to make a try...except statement.\n",
    "- while: Used for looping.\n",
    "- with: Used to simplify exception handling.\n",
    "- yield: Ends a function, returns a generator."
   ]
  },
  {
   "cell_type": "code",
   "execution_count": null,
   "metadata": {},
   "outputs": [],
   "source": []
  }
 ],
 "metadata": {
  "language_info": {
   "name": "python"
  }
 },
 "nbformat": 4,
 "nbformat_minor": 2
}
