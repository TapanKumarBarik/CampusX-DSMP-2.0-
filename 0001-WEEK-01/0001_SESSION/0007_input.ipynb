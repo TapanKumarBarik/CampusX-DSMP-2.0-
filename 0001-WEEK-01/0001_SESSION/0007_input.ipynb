{
 "cells": [
  {
   "cell_type": "markdown",
   "metadata": {},
   "source": [
    "In Python, you can use the input() function to take user input from the console. The input() function reads a line from input, converts it into a string (stripping a trailing newline), and returns that string.\n",
    "\n",
    "### Basic Usage\n",
    "To prompt the user for input, you can pass a string to input() which will be displayed as the prompt."
   ]
  },
  {
   "cell_type": "code",
   "execution_count": 1,
   "metadata": {},
   "outputs": [
    {
     "name": "stdout",
     "output_type": "stream",
     "text": [
      "Hello, Tapan!\n"
     ]
    }
   ],
   "source": [
    "name = input(\"Enter your name: \")\n",
    "print(f\"Hello, {name}!\")\n",
    "\n"
   ]
  },
  {
   "cell_type": "markdown",
   "metadata": {},
   "source": [
    "### Converting Input Types\n",
    "By default, input() returns the input as a string. If you need another type, you must convert it explicitly."
   ]
  },
  {
   "cell_type": "markdown",
   "metadata": {},
   "source": [
    "### Converting to Integer"
   ]
  },
  {
   "cell_type": "code",
   "execution_count": 3,
   "metadata": {},
   "outputs": [
    {
     "name": "stdout",
     "output_type": "stream",
     "text": [
      "You are 26 years old.\n"
     ]
    }
   ],
   "source": [
    "age = input(\"Enter your age: \")\n",
    "age = int(age)  # Convert the string to an integer\n",
    "print(f\"You are {age} years old.\")\n"
   ]
  },
  {
   "cell_type": "markdown",
   "metadata": {},
   "source": [
    "### Converting to Float"
   ]
  },
  {
   "cell_type": "code",
   "execution_count": 5,
   "metadata": {},
   "outputs": [
    {
     "name": "stdout",
     "output_type": "stream",
     "text": [
      "Your height is 1.7 meters.\n"
     ]
    }
   ],
   "source": [
    "height = input(\"Enter your height in meters: \")\n",
    "height = float(height)  # Convert the string to a float\n",
    "print(f\"Your height is {height} meters.\")\n"
   ]
  },
  {
   "cell_type": "markdown",
   "metadata": {},
   "source": [
    "### Handling Invalid Input\n",
    "It’s good practice to handle possible errors when converting input, using try-except blocks."
   ]
  },
  {
   "cell_type": "code",
   "execution_count": 6,
   "metadata": {},
   "outputs": [
    {
     "name": "stdout",
     "output_type": "stream",
     "text": [
      "Invalid input. Please enter a valid number.\n"
     ]
    }
   ],
   "source": [
    "try:\n",
    "    age = int(input(\"Enter your age: \"))\n",
    "    print(f\"You are {age} years old.\")\n",
    "except ValueError:\n",
    "    print(\"Invalid input. Please enter a valid number.\")\n"
   ]
  },
  {
   "cell_type": "markdown",
   "metadata": {},
   "source": [
    "### Example: Taking Multiple Inputs\n",
    "If you need to take multiple inputs in one line, you can use split() method to split the input string."
   ]
  },
  {
   "cell_type": "code",
   "execution_count": 7,
   "metadata": {},
   "outputs": [
    {
     "name": "stdout",
     "output_type": "stream",
     "text": [
      "Name: Tapan, Age: 26\n"
     ]
    }
   ],
   "source": [
    "# Example of taking multiple inputs in a single line\n",
    "data = input(\"Enter your name and age separated by a space: \")\n",
    "name, age = data.split()  # Split the input string by spaces\n",
    "age = int(age)  # Convert age to integer\n",
    "print(f\"Name: {name}, Age: {age}\")\n"
   ]
  },
  {
   "cell_type": "markdown",
   "metadata": {},
   "source": [
    "### Or using list comprehension for multiple values:"
   ]
  },
  {
   "cell_type": "code",
   "execution_count": 9,
   "metadata": {},
   "outputs": [
    {
     "name": "stdout",
     "output_type": "stream",
     "text": [
      "Numbers: 10, 15, 20\n"
     ]
    }
   ],
   "source": [
    "# Example of taking multiple inputs in a single line\n",
    "numbers = input(\"Enter three numbers separated by spaces: \")\n",
    "num1, num2, num3 = [int(x) for x in numbers.split()]\n",
    "print(f\"Numbers: {num1}, {num2}, {num3}\")\n"
   ]
  },
  {
   "cell_type": "markdown",
   "metadata": {},
   "source": [
    "### Example: Taking a List of Inputs\n",
    "You can prompt the user to enter a list of values and then process them."
   ]
  },
  {
   "cell_type": "code",
   "execution_count": 10,
   "metadata": {},
   "outputs": [
    {
     "name": "stdout",
     "output_type": "stream",
     "text": [
      "List of numbers: [10, 15, 20]\n"
     ]
    }
   ],
   "source": [
    "# Example of taking a list of integers\n",
    "numbers = input(\"Enter numbers separated by commas: \")\n",
    "num_list = [int(x) for x in numbers.split(',')]\n",
    "print(f\"List of numbers: {num_list}\")\n"
   ]
  },
  {
   "cell_type": "markdown",
   "metadata": {},
   "source": []
  }
 ],
 "metadata": {
  "kernelspec": {
   "display_name": "Python 3",
   "language": "python",
   "name": "python3"
  },
  "language_info": {
   "codemirror_mode": {
    "name": "ipython",
    "version": 3
   },
   "file_extension": ".py",
   "mimetype": "text/x-python",
   "name": "python",
   "nbconvert_exporter": "python",
   "pygments_lexer": "ipython3",
   "version": "3.11.4"
  }
 },
 "nbformat": 4,
 "nbformat_minor": 2
}
