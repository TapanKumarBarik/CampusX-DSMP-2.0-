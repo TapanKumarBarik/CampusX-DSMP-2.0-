{
 "cells": [
  {
   "cell_type": "markdown",
   "metadata": {},
   "source": [
    "In Python, comments are used to add explanatory notes or annotations to the code. Comments can help make the code more understandable and maintainable. They are ignored by the Python interpreter and do not affect the program’s execution. Python supports both single-line and multi-line comments.\n",
    "\n",
    "## Single-line Comments\n",
    "Single-line comments start with the hash character (#) and extend to the end of the line."
   ]
  },
  {
   "cell_type": "code",
   "execution_count": 1,
   "metadata": {},
   "outputs": [],
   "source": [
    "# This is a single-line comment\n",
    "x = 42  # This comment is after a statement\n"
   ]
  },
  {
   "cell_type": "markdown",
   "metadata": {},
   "source": [
    "## Multi-line Comments\n",
    "Python does not have a specific syntax for multi-line comments. However, you can create multi-line comments by using consecutive single-line comments or by using triple-quoted strings (''' or \"\"\"). Triple-quoted strings are not true comments but can serve as multi-line comments when they are not used as docstrings."
   ]
  },
  {
   "cell_type": "markdown",
   "metadata": {},
   "source": [
    "## Consecutive Single-line Comments"
   ]
  },
  {
   "cell_type": "code",
   "execution_count": 2,
   "metadata": {},
   "outputs": [],
   "source": [
    "# This is a multi-line comment\n",
    "# using consecutive single-line comments.\n",
    "# Each line starts with a hash character.\n"
   ]
  },
  {
   "cell_type": "markdown",
   "metadata": {},
   "source": [
    "## Triple-quoted Strings\n",
    "Triple-quoted strings can be used as multi-line comments, but technically they are multi-line strings that are not assigned to any variable."
   ]
  },
  {
   "cell_type": "code",
   "execution_count": 3,
   "metadata": {},
   "outputs": [
    {
     "data": {
      "text/plain": [
       "'\\nThis is a multi-line comment.\\nIt uses triple-quoted strings.\\nIt can span multiple lines.\\n'"
      ]
     },
     "execution_count": 3,
     "metadata": {},
     "output_type": "execute_result"
    }
   ],
   "source": [
    "\"\"\"\n",
    "This is a multi-line comment.\n",
    "It uses triple-quoted strings.\n",
    "It can span multiple lines.\n",
    "\"\"\"\n"
   ]
  },
  {
   "cell_type": "markdown",
   "metadata": {},
   "source": [
    "### Docstrings\n",
    "Docstrings (documentation strings) are a special kind of comment used to describe modules, classes, and functions. Unlike regular comments, docstrings are retained at runtime, making them accessible via the __doc__ attribute.\n",
    "\n",
    "### Module-level Docstrings"
   ]
  },
  {
   "cell_type": "code",
   "execution_count": 4,
   "metadata": {},
   "outputs": [
    {
     "data": {
      "text/plain": [
       "'\\nThis is a module-level docstring.\\nIt provides documentation for the module.\\n'"
      ]
     },
     "execution_count": 4,
     "metadata": {},
     "output_type": "execute_result"
    }
   ],
   "source": [
    "\"\"\"\n",
    "This is a module-level docstring.\n",
    "It provides documentation for the module.\n",
    "\"\"\""
   ]
  },
  {
   "cell_type": "markdown",
   "metadata": {},
   "source": [
    "## Function-level Docstrings"
   ]
  },
  {
   "cell_type": "code",
   "execution_count": null,
   "metadata": {},
   "outputs": [],
   "source": [
    "def my_function():\n",
    "    \"\"\"\n",
    "    This is a function-level docstring.\n",
    "    It describes what the function does.\n",
    "    \"\"\"\n",
    "    print(\"Hello, World!\")\n",
    "\n",
    "print(my_function.__doc__)\n"
   ]
  }
 ],
 "metadata": {
  "kernelspec": {
   "display_name": "Python 3",
   "language": "python",
   "name": "python3"
  },
  "language_info": {
   "codemirror_mode": {
    "name": "ipython",
    "version": 3
   },
   "file_extension": ".py",
   "mimetype": "text/x-python",
   "name": "python",
   "nbconvert_exporter": "python",
   "pygments_lexer": "ipython3",
   "version": "3.11.4"
  }
 },
 "nbformat": 4,
 "nbformat_minor": 2
}
