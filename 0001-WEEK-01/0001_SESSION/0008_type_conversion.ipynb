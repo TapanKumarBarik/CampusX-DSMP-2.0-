{
 "cells": [
  {
   "cell_type": "markdown",
   "metadata": {},
   "source": [
    "Type conversion in Python refers to converting one data type to another. There are two types of type conversion:\n",
    "\n",
    "#### Implicit Type Conversion: \n",
    "The Python interpreter automatically converts one data type to another without the programmer's intervention.\n",
    "#### Explicit Type Conversion: \n",
    "The programmer manually converts one data type to another using predefined functions."
   ]
  },
  {
   "cell_type": "markdown",
   "metadata": {},
   "source": [
    "### Implicit Type Conversion\n",
    "In implicit type conversion, Python automatically converts a smaller data type to a larger data type to prevent data loss."
   ]
  },
  {
   "cell_type": "markdown",
   "metadata": {},
   "source": [
    "## Example"
   ]
  },
  {
   "cell_type": "code",
   "execution_count": 1,
   "metadata": {},
   "outputs": [
    {
     "name": "stdout",
     "output_type": "stream",
     "text": [
      "13.5\n",
      "<class 'float'>\n"
     ]
    }
   ],
   "source": [
    "x = 10   # int\n",
    "y = 3.5  # float\n",
    "\n",
    "# x is implicitly converted to float\n",
    "result = x + y\n",
    "\n",
    "print(result)   # 13.5\n",
    "print(type(result))  # <class 'float'>\n"
   ]
  },
  {
   "cell_type": "markdown",
   "metadata": {},
   "source": [
    "In this example, x (an integer) is automatically converted to a float when added to y (a float)."
   ]
  },
  {
   "cell_type": "markdown",
   "metadata": {},
   "source": [
    "### Explicit Type Conversion\n",
    "In explicit type conversion, also known as type casting, you manually convert one data type to another using Python's built-in functions.\n",
    "\n",
    "#### Common Functions for Type Conversion\n",
    "- int(): Converts a value to an integer.\n",
    "- float(): Converts a value to a float.\n",
    "- str(): Converts a value to a string.\n",
    "- list(): Converts a value to a list.\n",
    "- tuple(): Converts a value to a tuple.\n",
    "- set(): Converts a value to a set.\n",
    "- dict(): Converts a value to a dictionary (if the value is iterable and has pairs).\n",
    "## Examples\n",
    "Converting String to Integer and Float"
   ]
  },
  {
   "cell_type": "code",
   "execution_count": 2,
   "metadata": {},
   "outputs": [
    {
     "name": "stdout",
     "output_type": "stream",
     "text": [
      "123\n",
      "123.0\n"
     ]
    }
   ],
   "source": [
    "s = \"123\"\n",
    "print(int(s))   # 123\n",
    "print(float(s)) # 123.0\n"
   ]
  },
  {
   "cell_type": "markdown",
   "metadata": {},
   "source": [
    "## Converting Integer and Float to String"
   ]
  },
  {
   "cell_type": "code",
   "execution_count": 3,
   "metadata": {},
   "outputs": [
    {
     "name": "stdout",
     "output_type": "stream",
     "text": [
      "42\n",
      "3.14159\n"
     ]
    }
   ],
   "source": [
    "num = 42\n",
    "f = 3.14159\n",
    "print(str(num))  # '42'\n",
    "print(str(f))    # '3.14159'\n"
   ]
  },
  {
   "cell_type": "markdown",
   "metadata": {},
   "source": [
    "## Converting List to Tuple and Set"
   ]
  },
  {
   "cell_type": "code",
   "execution_count": 4,
   "metadata": {},
   "outputs": [
    {
     "name": "stdout",
     "output_type": "stream",
     "text": [
      "(1, 2, 3, 4, 4)\n",
      "{1, 2, 3, 4}\n"
     ]
    }
   ],
   "source": [
    "lst = [1, 2, 3, 4, 4]\n",
    "print(tuple(lst))  # (1, 2, 3, 4, 4)\n",
    "print(set(lst))    # {1, 2, 3, 4} - duplicates are removed in a set\n"
   ]
  },
  {
   "cell_type": "markdown",
   "metadata": {},
   "source": [
    "### Converting Tuple to List and Set"
   ]
  },
  {
   "cell_type": "code",
   "execution_count": 5,
   "metadata": {},
   "outputs": [
    {
     "name": "stdout",
     "output_type": "stream",
     "text": [
      "[1, 2, 3, 4, 4]\n",
      "{1, 2, 3, 4}\n"
     ]
    }
   ],
   "source": [
    "tup = (1, 2, 3, 4, 4)\n",
    "print(list(tup))  # [1, 2, 3, 4, 4]\n",
    "print(set(tup))   # {1, 2, 3, 4}\n"
   ]
  },
  {
   "cell_type": "markdown",
   "metadata": {},
   "source": [
    "### Handling Type Conversion Errors\n",
    "Type conversion can sometimes lead to errors if the conversion is not possible. For example, converting a non-numeric string to an integer will raise a ValueError. It's good practice to handle such errors using try-except blocks.\n"
   ]
  },
  {
   "cell_type": "code",
   "execution_count": 6,
   "metadata": {},
   "outputs": [
    {
     "name": "stdout",
     "output_type": "stream",
     "text": [
      "Cannot convert 'abc' to an integer.\n"
     ]
    }
   ],
   "source": [
    "s = \"abc\"\n",
    "try:\n",
    "    num = int(s)\n",
    "except ValueError:\n",
    "    print(f\"Cannot convert '{s}' to an integer.\")\n"
   ]
  },
  {
   "cell_type": "markdown",
   "metadata": {},
   "source": []
  }
 ],
 "metadata": {
  "kernelspec": {
   "display_name": "Python 3",
   "language": "python",
   "name": "python3"
  },
  "language_info": {
   "codemirror_mode": {
    "name": "ipython",
    "version": 3
   },
   "file_extension": ".py",
   "mimetype": "text/x-python",
   "name": "python",
   "nbconvert_exporter": "python",
   "pygments_lexer": "ipython3",
   "version": "3.11.4"
  }
 },
 "nbformat": 4,
 "nbformat_minor": 2
}
